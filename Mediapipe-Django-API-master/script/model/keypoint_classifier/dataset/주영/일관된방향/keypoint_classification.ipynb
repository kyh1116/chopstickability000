{
 "cells": [
  {
   "cell_type": "code",
   "execution_count": 404,
   "metadata": {},
   "outputs": [],
   "source": [
    "import csv\n",
    "\n",
    "import numpy as np\n",
    "import tensorflow as tf\n",
    "from sklearn.model_selection import train_test_split\n",
    "\n",
    "RANDOM_SEED = 42"
   ]
  },
  {
   "cell_type": "markdown",
   "metadata": {},
   "source": [
    "# 各パス指定"
   ]
  },
  {
   "cell_type": "code",
   "execution_count": 405,
   "metadata": {},
   "outputs": [],
   "source": [
    "dataset = 'model/keypoint_classifier/keypoint.csv'\n",
    "model_save_path = 'model/keypoint_classifier/keypoint_classifier.hdf5'"
   ]
  },
  {
   "cell_type": "markdown",
   "metadata": {},
   "source": [
    "# 分類数設定"
   ]
  },
  {
   "cell_type": "code",
   "execution_count": 406,
   "metadata": {},
   "outputs": [],
   "source": [
    "NUM_CLASSES = 4"
   ]
  },
  {
   "cell_type": "markdown",
   "metadata": {},
   "source": [
    "# 学習データ読み込み"
   ]
  },
  {
   "cell_type": "code",
   "execution_count": 407,
   "metadata": {},
   "outputs": [],
   "source": [
    "X_dataset = np.loadtxt(dataset, delimiter=',', dtype='float32', usecols=list(range(1, (21 * 2) + 1)))"
   ]
  },
  {
   "cell_type": "code",
   "execution_count": 408,
   "metadata": {},
   "outputs": [],
   "source": [
    "y_dataset = np.loadtxt(dataset, delimiter=',', dtype='int32', usecols=(0))"
   ]
  },
  {
   "cell_type": "code",
   "execution_count": 409,
   "metadata": {},
   "outputs": [],
   "source": [
    "X_train, X_test, y_train, y_test = train_test_split(X_dataset, y_dataset, train_size=0.75, random_state=RANDOM_SEED)"
   ]
  },
  {
   "cell_type": "markdown",
   "metadata": {},
   "source": [
    "# モデル構築"
   ]
  },
  {
   "cell_type": "code",
   "execution_count": 410,
   "metadata": {},
   "outputs": [],
   "source": [
    "model = tf.keras.models.Sequential([\n",
    "    tf.keras.layers.Input((21 * 2, )),\n",
    "    tf.keras.layers.Dropout(0.2),\n",
    "    tf.keras.layers.Dense(40, activation='relu'),\n",
    "    tf.keras.layers.Dropout(0.2),\n",
    "    tf.keras.layers.Dense(160, activation='relu'),\n",
    "    tf.keras.layers.Dropout(0.4),\n",
    "    tf.keras.layers.Dense(80, activation='relu'),\n",
    "    tf.keras.layers.Dropout(0.2),\n",
    "    tf.keras.layers.Dense(20, activation='relu'),\n",
    "    tf.keras.layers.Dense(NUM_CLASSES, activation='softmax')\n",
    "])"
   ]
  },
  {
   "cell_type": "code",
   "execution_count": 411,
   "metadata": {},
   "outputs": [
    {
     "name": "stdout",
     "output_type": "stream",
     "text": [
      "Model: \"sequential_18\"\n",
      "_________________________________________________________________\n",
      " Layer (type)                Output Shape              Param #   \n",
      "=================================================================\n",
      " dropout_60 (Dropout)        (None, 42)                0         \n",
      "                                                                 \n",
      " dense_78 (Dense)            (None, 40)                1720      \n",
      "                                                                 \n",
      " dropout_61 (Dropout)        (None, 40)                0         \n",
      "                                                                 \n",
      " dense_79 (Dense)            (None, 160)               6560      \n",
      "                                                                 \n",
      " dropout_62 (Dropout)        (None, 160)               0         \n",
      "                                                                 \n",
      " dense_80 (Dense)            (None, 80)                12880     \n",
      "                                                                 \n",
      " dropout_63 (Dropout)        (None, 80)                0         \n",
      "                                                                 \n",
      " dense_81 (Dense)            (None, 20)                1620      \n",
      "                                                                 \n",
      " dense_82 (Dense)            (None, 4)                 84        \n",
      "                                                                 \n",
      "=================================================================\n",
      "Total params: 22,864\n",
      "Trainable params: 22,864\n",
      "Non-trainable params: 0\n",
      "_________________________________________________________________\n"
     ]
    }
   ],
   "source": [
    "model.summary()  # tf.keras.utils.plot_model(model, show_shapes=True)"
   ]
  },
  {
   "cell_type": "code",
   "execution_count": 412,
   "metadata": {},
   "outputs": [],
   "source": [
    "# モデルチェックポイントのコールバック\n",
    "cp_callback = tf.keras.callbacks.ModelCheckpoint(\n",
    "    model_save_path, verbose=1, save_weights_only=False)\n",
    "# 早期打ち切り用コールバック\n",
    "es_callback = tf.keras.callbacks.EarlyStopping(patience=20, verbose=1)"
   ]
  },
  {
   "cell_type": "code",
   "execution_count": 413,
   "metadata": {},
   "outputs": [],
   "source": [
    "# モデルコンパイル\n",
    "model.compile(\n",
    "    optimizer='adam',\n",
    "    loss='sparse_categorical_crossentropy',\n",
    "    metrics=['accuracy']\n",
    ")"
   ]
  },
  {
   "cell_type": "markdown",
   "metadata": {},
   "source": [
    "# モデル訓練"
   ]
  },
  {
   "cell_type": "code",
   "execution_count": 414,
   "metadata": {
    "scrolled": true
   },
   "outputs": [
    {
     "name": "stdout",
     "output_type": "stream",
     "text": [
      "Epoch 1/1000\n",
      " 1/17 [>.............................] - ETA: 6s - loss: 1.4280 - accuracy: 0.2344\n",
      "Epoch 1: saving model to model/keypoint_classifier\\keypoint_classifier.hdf5\n",
      "17/17 [==============================] - 1s 14ms/step - loss: 1.3674 - accuracy: 0.3085 - val_loss: 1.2515 - val_accuracy: 0.6428\n",
      "Epoch 2/1000\n",
      " 1/17 [>.............................] - ETA: 0s - loss: 1.3176 - accuracy: 0.3750\n",
      "Epoch 2: saving model to model/keypoint_classifier\\keypoint_classifier.hdf5\n",
      "17/17 [==============================] - 0s 7ms/step - loss: 1.2624 - accuracy: 0.4089 - val_loss: 1.0556 - val_accuracy: 0.6212\n",
      "Epoch 3/1000\n",
      " 1/17 [>.............................] - ETA: 0s - loss: 1.1612 - accuracy: 0.4844\n",
      "Epoch 3: saving model to model/keypoint_classifier\\keypoint_classifier.hdf5\n",
      "17/17 [==============================] - 0s 8ms/step - loss: 1.1482 - accuracy: 0.4687 - val_loss: 0.9128 - val_accuracy: 0.5968\n",
      "Epoch 4/1000\n",
      "17/17 [==============================] - ETA: 0s - loss: 1.0649 - accuracy: 0.4778\n",
      "Epoch 4: saving model to model/keypoint_classifier\\keypoint_classifier.hdf5\n",
      "17/17 [==============================] - 0s 8ms/step - loss: 1.0649 - accuracy: 0.4778 - val_loss: 0.8070 - val_accuracy: 0.6499\n",
      "Epoch 5/1000\n",
      "17/17 [==============================] - ETA: 0s - loss: 0.9989 - accuracy: 0.5132\n",
      "Epoch 5: saving model to model/keypoint_classifier\\keypoint_classifier.hdf5\n",
      "17/17 [==============================] - 0s 9ms/step - loss: 0.9989 - accuracy: 0.5132 - val_loss: 0.7557 - val_accuracy: 0.6901\n",
      "Epoch 6/1000\n",
      "17/17 [==============================] - ETA: 0s - loss: 0.9574 - accuracy: 0.5323\n",
      "Epoch 6: saving model to model/keypoint_classifier\\keypoint_classifier.hdf5\n",
      "17/17 [==============================] - 0s 8ms/step - loss: 0.9574 - accuracy: 0.5323 - val_loss: 0.6957 - val_accuracy: 0.7690\n",
      "Epoch 7/1000\n",
      " 1/17 [>.............................] - ETA: 0s - loss: 0.9286 - accuracy: 0.5625\n",
      "Epoch 7: saving model to model/keypoint_classifier\\keypoint_classifier.hdf5\n",
      "17/17 [==============================] - 0s 7ms/step - loss: 0.9202 - accuracy: 0.5815 - val_loss: 0.6623 - val_accuracy: 0.7102\n",
      "Epoch 8/1000\n",
      " 1/17 [>.............................] - ETA: 0s - loss: 0.9065 - accuracy: 0.5547\n",
      "Epoch 8: saving model to model/keypoint_classifier\\keypoint_classifier.hdf5\n",
      "17/17 [==============================] - 0s 7ms/step - loss: 0.8950 - accuracy: 0.5815 - val_loss: 0.6199 - val_accuracy: 0.8235\n",
      "Epoch 9/1000\n",
      " 1/17 [>.............................] - ETA: 0s - loss: 0.8422 - accuracy: 0.5938\n",
      "Epoch 9: saving model to model/keypoint_classifier\\keypoint_classifier.hdf5\n",
      "17/17 [==============================] - 0s 7ms/step - loss: 0.8531 - accuracy: 0.6093 - val_loss: 0.5925 - val_accuracy: 0.6958\n",
      "Epoch 10/1000\n",
      "17/17 [==============================] - ETA: 0s - loss: 0.8334 - accuracy: 0.6222\n",
      "Epoch 10: saving model to model/keypoint_classifier\\keypoint_classifier.hdf5\n",
      "17/17 [==============================] - 0s 7ms/step - loss: 0.8334 - accuracy: 0.6222 - val_loss: 0.5749 - val_accuracy: 0.7862\n",
      "Epoch 11/1000\n",
      " 1/17 [>.............................] - ETA: 0s - loss: 0.8333 - accuracy: 0.6328\n",
      "Epoch 11: saving model to model/keypoint_classifier\\keypoint_classifier.hdf5\n",
      "17/17 [==============================] - 0s 6ms/step - loss: 0.7824 - accuracy: 0.6413 - val_loss: 0.5454 - val_accuracy: 0.7633\n",
      "Epoch 12/1000\n",
      " 1/17 [>.............................] - ETA: 0s - loss: 0.8806 - accuracy: 0.5859\n",
      "Epoch 12: saving model to model/keypoint_classifier\\keypoint_classifier.hdf5\n",
      "17/17 [==============================] - 0s 7ms/step - loss: 0.7766 - accuracy: 0.6437 - val_loss: 0.5153 - val_accuracy: 0.8321\n",
      "Epoch 13/1000\n",
      "17/17 [==============================] - ETA: 0s - loss: 0.7850 - accuracy: 0.6595\n",
      "Epoch 13: saving model to model/keypoint_classifier\\keypoint_classifier.hdf5\n",
      "17/17 [==============================] - 0s 8ms/step - loss: 0.7850 - accuracy: 0.6595 - val_loss: 0.4967 - val_accuracy: 0.8336\n",
      "Epoch 14/1000\n",
      " 1/17 [>.............................] - ETA: 0s - loss: 0.8058 - accuracy: 0.6406\n",
      "Epoch 14: saving model to model/keypoint_classifier\\keypoint_classifier.hdf5\n",
      "17/17 [==============================] - 0s 7ms/step - loss: 0.7557 - accuracy: 0.6581 - val_loss: 0.4832 - val_accuracy: 0.8651\n",
      "Epoch 15/1000\n",
      " 1/17 [>.............................] - ETA: 0s - loss: 0.7433 - accuracy: 0.7188\n",
      "Epoch 15: saving model to model/keypoint_classifier\\keypoint_classifier.hdf5\n",
      "17/17 [==============================] - 0s 6ms/step - loss: 0.7423 - accuracy: 0.6638 - val_loss: 0.4752 - val_accuracy: 0.7920\n",
      "Epoch 16/1000\n",
      " 1/17 [>.............................] - ETA: 0s - loss: 0.7865 - accuracy: 0.6797\n",
      "Epoch 16: saving model to model/keypoint_classifier\\keypoint_classifier.hdf5\n",
      "17/17 [==============================] - 0s 7ms/step - loss: 0.7513 - accuracy: 0.6772 - val_loss: 0.4840 - val_accuracy: 0.7805\n",
      "Epoch 17/1000\n",
      " 1/17 [>.............................] - ETA: 0s - loss: 0.8230 - accuracy: 0.6172\n",
      "Epoch 17: saving model to model/keypoint_classifier\\keypoint_classifier.hdf5\n",
      "17/17 [==============================] - 0s 7ms/step - loss: 0.7202 - accuracy: 0.6743 - val_loss: 0.4704 - val_accuracy: 0.8207\n",
      "Epoch 18/1000\n",
      " 1/17 [>.............................] - ETA: 0s - loss: 0.7180 - accuracy: 0.6797\n",
      "Epoch 18: saving model to model/keypoint_classifier\\keypoint_classifier.hdf5\n",
      "17/17 [==============================] - 0s 7ms/step - loss: 0.6861 - accuracy: 0.7064 - val_loss: 0.4270 - val_accuracy: 0.8680\n",
      "Epoch 19/1000\n",
      " 1/17 [>.............................] - ETA: 0s - loss: 0.6518 - accuracy: 0.7031\n",
      "Epoch 19: saving model to model/keypoint_classifier\\keypoint_classifier.hdf5\n",
      "17/17 [==============================] - 0s 6ms/step - loss: 0.6978 - accuracy: 0.6911 - val_loss: 0.4361 - val_accuracy: 0.8666\n",
      "Epoch 20/1000\n",
      "17/17 [==============================] - ETA: 0s - loss: 0.6794 - accuracy: 0.6992\n",
      "Epoch 20: saving model to model/keypoint_classifier\\keypoint_classifier.hdf5\n",
      "17/17 [==============================] - 0s 7ms/step - loss: 0.6794 - accuracy: 0.6992 - val_loss: 0.4187 - val_accuracy: 0.8580\n",
      "Epoch 21/1000\n",
      " 1/17 [>.............................] - ETA: 0s - loss: 0.7486 - accuracy: 0.7031\n",
      "Epoch 21: saving model to model/keypoint_classifier\\keypoint_classifier.hdf5\n",
      "17/17 [==============================] - 0s 7ms/step - loss: 0.6595 - accuracy: 0.7116 - val_loss: 0.4064 - val_accuracy: 0.8694\n",
      "Epoch 22/1000\n",
      "17/17 [==============================] - ETA: 0s - loss: 0.6967 - accuracy: 0.7006\n",
      "Epoch 22: saving model to model/keypoint_classifier\\keypoint_classifier.hdf5\n",
      "17/17 [==============================] - 0s 7ms/step - loss: 0.6967 - accuracy: 0.7006 - val_loss: 0.4234 - val_accuracy: 0.8795\n",
      "Epoch 23/1000\n",
      " 1/17 [>.............................] - ETA: 0s - loss: 0.6353 - accuracy: 0.6875\n",
      "Epoch 23: saving model to model/keypoint_classifier\\keypoint_classifier.hdf5\n",
      "17/17 [==============================] - 0s 7ms/step - loss: 0.6556 - accuracy: 0.7150 - val_loss: 0.4161 - val_accuracy: 0.8680\n",
      "Epoch 24/1000\n",
      " 1/17 [>.............................] - ETA: 0s - loss: 0.6927 - accuracy: 0.6953\n",
      "Epoch 24: saving model to model/keypoint_classifier\\keypoint_classifier.hdf5\n",
      "17/17 [==============================] - 0s 7ms/step - loss: 0.6353 - accuracy: 0.7198 - val_loss: 0.3909 - val_accuracy: 0.8852\n",
      "Epoch 25/1000\n",
      "16/17 [===========================>..] - ETA: 0s - loss: 0.6558 - accuracy: 0.7163\n",
      "Epoch 25: saving model to model/keypoint_classifier\\keypoint_classifier.hdf5\n",
      "17/17 [==============================] - 0s 8ms/step - loss: 0.6558 - accuracy: 0.7154 - val_loss: 0.3900 - val_accuracy: 0.8694\n",
      "Epoch 26/1000\n",
      "17/17 [==============================] - ETA: 0s - loss: 0.6691 - accuracy: 0.7126\n",
      "Epoch 26: saving model to model/keypoint_classifier\\keypoint_classifier.hdf5\n",
      "17/17 [==============================] - 0s 7ms/step - loss: 0.6691 - accuracy: 0.7126 - val_loss: 0.3915 - val_accuracy: 0.8867\n",
      "Epoch 27/1000\n",
      " 1/17 [>.............................] - ETA: 0s - loss: 0.6290 - accuracy: 0.7500\n",
      "Epoch 27: saving model to model/keypoint_classifier\\keypoint_classifier.hdf5\n",
      "17/17 [==============================] - 0s 7ms/step - loss: 0.6357 - accuracy: 0.7341 - val_loss: 0.3951 - val_accuracy: 0.8895\n",
      "Epoch 28/1000\n",
      " 1/17 [>.............................] - ETA: 0s - loss: 0.5870 - accuracy: 0.7344\n",
      "Epoch 28: saving model to model/keypoint_classifier\\keypoint_classifier.hdf5\n",
      "17/17 [==============================] - 0s 7ms/step - loss: 0.6855 - accuracy: 0.7030 - val_loss: 0.4212 - val_accuracy: 0.8637\n",
      "Epoch 29/1000\n",
      " 1/17 [>.............................] - ETA: 0s - loss: 0.6760 - accuracy: 0.7109\n",
      "Epoch 29: saving model to model/keypoint_classifier\\keypoint_classifier.hdf5\n",
      "17/17 [==============================] - 0s 6ms/step - loss: 0.6489 - accuracy: 0.7116 - val_loss: 0.4277 - val_accuracy: 0.8651\n",
      "Epoch 30/1000\n",
      " 1/17 [>.............................] - ETA: 0s - loss: 0.7751 - accuracy: 0.6328\n",
      "Epoch 30: saving model to model/keypoint_classifier\\keypoint_classifier.hdf5\n",
      "17/17 [==============================] - 0s 7ms/step - loss: 0.6690 - accuracy: 0.7068 - val_loss: 0.3966 - val_accuracy: 0.8651\n",
      "Epoch 31/1000\n",
      "15/17 [=========================>....] - ETA: 0s - loss: 0.6034 - accuracy: 0.7396\n",
      "Epoch 31: saving model to model/keypoint_classifier\\keypoint_classifier.hdf5\n",
      "17/17 [==============================] - 0s 7ms/step - loss: 0.6012 - accuracy: 0.7413 - val_loss: 0.3784 - val_accuracy: 0.8709\n",
      "Epoch 32/1000\n",
      " 1/17 [>.............................] - ETA: 0s - loss: 0.6744 - accuracy: 0.7188\n",
      "Epoch 32: saving model to model/keypoint_classifier\\keypoint_classifier.hdf5\n",
      "17/17 [==============================] - 0s 7ms/step - loss: 0.6246 - accuracy: 0.7308 - val_loss: 0.3687 - val_accuracy: 0.8924\n",
      "Epoch 33/1000\n",
      " 1/17 [>.............................] - ETA: 0s - loss: 0.5172 - accuracy: 0.8203\n",
      "Epoch 33: saving model to model/keypoint_classifier\\keypoint_classifier.hdf5\n",
      "17/17 [==============================] - 0s 6ms/step - loss: 0.6231 - accuracy: 0.7418 - val_loss: 0.3685 - val_accuracy: 0.8910\n",
      "Epoch 34/1000\n",
      " 1/17 [>.............................] - ETA: 0s - loss: 0.6147 - accuracy: 0.7031\n",
      "Epoch 34: saving model to model/keypoint_classifier\\keypoint_classifier.hdf5\n",
      "17/17 [==============================] - 0s 7ms/step - loss: 0.6072 - accuracy: 0.7403 - val_loss: 0.3594 - val_accuracy: 0.9110\n",
      "Epoch 35/1000\n",
      "17/17 [==============================] - ETA: 0s - loss: 0.6107 - accuracy: 0.7489\n",
      "Epoch 35: saving model to model/keypoint_classifier\\keypoint_classifier.hdf5\n",
      "17/17 [==============================] - 0s 7ms/step - loss: 0.6107 - accuracy: 0.7489 - val_loss: 0.3569 - val_accuracy: 0.8996\n",
      "Epoch 36/1000\n",
      "17/17 [==============================] - ETA: 0s - loss: 0.6044 - accuracy: 0.7470\n",
      "Epoch 36: saving model to model/keypoint_classifier\\keypoint_classifier.hdf5\n",
      "17/17 [==============================] - 0s 7ms/step - loss: 0.6044 - accuracy: 0.7470 - val_loss: 0.3399 - val_accuracy: 0.9067\n",
      "Epoch 37/1000\n",
      "17/17 [==============================] - ETA: 0s - loss: 0.5932 - accuracy: 0.7537\n",
      "Epoch 37: saving model to model/keypoint_classifier\\keypoint_classifier.hdf5\n",
      "17/17 [==============================] - 0s 8ms/step - loss: 0.5932 - accuracy: 0.7537 - val_loss: 0.3391 - val_accuracy: 0.9125\n",
      "Epoch 38/1000\n",
      " 1/17 [>.............................] - ETA: 0s - loss: 0.6201 - accuracy: 0.7969\n",
      "Epoch 38: saving model to model/keypoint_classifier\\keypoint_classifier.hdf5\n",
      "17/17 [==============================] - 0s 7ms/step - loss: 0.6058 - accuracy: 0.7341 - val_loss: 0.3420 - val_accuracy: 0.9067\n",
      "Epoch 39/1000\n",
      " 1/17 [>.............................] - ETA: 0s - loss: 0.4779 - accuracy: 0.8047\n",
      "Epoch 39: saving model to model/keypoint_classifier\\keypoint_classifier.hdf5\n",
      "17/17 [==============================] - 0s 7ms/step - loss: 0.5747 - accuracy: 0.7633 - val_loss: 0.3363 - val_accuracy: 0.9039\n",
      "Epoch 40/1000\n",
      " 1/17 [>.............................] - ETA: 0s - loss: 0.5180 - accuracy: 0.7656\n",
      "Epoch 40: saving model to model/keypoint_classifier\\keypoint_classifier.hdf5\n",
      "17/17 [==============================] - 0s 7ms/step - loss: 0.5784 - accuracy: 0.7556 - val_loss: 0.3279 - val_accuracy: 0.9082\n",
      "Epoch 41/1000\n",
      " 1/17 [>.............................] - ETA: 0s - loss: 0.5471 - accuracy: 0.7500\n",
      "Epoch 41: saving model to model/keypoint_classifier\\keypoint_classifier.hdf5\n",
      "17/17 [==============================] - 0s 7ms/step - loss: 0.5912 - accuracy: 0.7475 - val_loss: 0.3406 - val_accuracy: 0.9024\n",
      "Epoch 42/1000\n",
      "17/17 [==============================] - ETA: 0s - loss: 0.5605 - accuracy: 0.7633\n",
      "Epoch 42: saving model to model/keypoint_classifier\\keypoint_classifier.hdf5\n",
      "17/17 [==============================] - 0s 8ms/step - loss: 0.5605 - accuracy: 0.7633 - val_loss: 0.3246 - val_accuracy: 0.9082\n",
      "Epoch 43/1000\n",
      "16/17 [===========================>..] - ETA: 0s - loss: 0.5743 - accuracy: 0.7671\n",
      "Epoch 43: saving model to model/keypoint_classifier\\keypoint_classifier.hdf5\n",
      "17/17 [==============================] - 0s 8ms/step - loss: 0.5731 - accuracy: 0.7671 - val_loss: 0.3402 - val_accuracy: 0.8938\n",
      "Epoch 44/1000\n",
      "15/17 [=========================>....] - ETA: 0s - loss: 0.5678 - accuracy: 0.7734\n",
      "Epoch 44: saving model to model/keypoint_classifier\\keypoint_classifier.hdf5\n",
      "17/17 [==============================] - 0s 8ms/step - loss: 0.5677 - accuracy: 0.7728 - val_loss: 0.3328 - val_accuracy: 0.9154\n",
      "Epoch 45/1000\n",
      "16/17 [===========================>..] - ETA: 0s - loss: 0.5783 - accuracy: 0.7656\n",
      "Epoch 45: saving model to model/keypoint_classifier\\keypoint_classifier.hdf5\n",
      "17/17 [==============================] - 0s 10ms/step - loss: 0.5781 - accuracy: 0.7666 - val_loss: 0.3205 - val_accuracy: 0.9110\n",
      "Epoch 46/1000\n",
      " 1/17 [>.............................] - ETA: 0s - loss: 0.4227 - accuracy: 0.8359\n",
      "Epoch 46: saving model to model/keypoint_classifier\\keypoint_classifier.hdf5\n",
      "17/17 [==============================] - 0s 7ms/step - loss: 0.5611 - accuracy: 0.7609 - val_loss: 0.3242 - val_accuracy: 0.9110\n",
      "Epoch 47/1000\n",
      " 1/17 [>.............................] - ETA: 0s - loss: 0.6852 - accuracy: 0.7500\n",
      "Epoch 47: saving model to model/keypoint_classifier\\keypoint_classifier.hdf5\n",
      "17/17 [==============================] - 0s 7ms/step - loss: 0.5482 - accuracy: 0.7762 - val_loss: 0.3058 - val_accuracy: 0.9154\n",
      "Epoch 48/1000\n",
      "17/17 [==============================] - ETA: 0s - loss: 0.5424 - accuracy: 0.7743\n",
      "Epoch 48: saving model to model/keypoint_classifier\\keypoint_classifier.hdf5\n",
      "17/17 [==============================] - 0s 7ms/step - loss: 0.5424 - accuracy: 0.7743 - val_loss: 0.3081 - val_accuracy: 0.9082\n",
      "Epoch 49/1000\n",
      "17/17 [==============================] - ETA: 0s - loss: 0.5472 - accuracy: 0.7700\n",
      "Epoch 49: saving model to model/keypoint_classifier\\keypoint_classifier.hdf5\n",
      "17/17 [==============================] - 0s 8ms/step - loss: 0.5472 - accuracy: 0.7700 - val_loss: 0.3126 - val_accuracy: 0.9225\n",
      "Epoch 50/1000\n",
      " 1/17 [>.............................] - ETA: 0s - loss: 0.5373 - accuracy: 0.7578\n",
      "Epoch 50: saving model to model/keypoint_classifier\\keypoint_classifier.hdf5\n",
      "17/17 [==============================] - 0s 7ms/step - loss: 0.5429 - accuracy: 0.7733 - val_loss: 0.3351 - val_accuracy: 0.9096\n",
      "Epoch 51/1000\n",
      "16/17 [===========================>..] - ETA: 0s - loss: 0.5387 - accuracy: 0.7744\n",
      "Epoch 51: saving model to model/keypoint_classifier\\keypoint_classifier.hdf5\n",
      "17/17 [==============================] - 0s 11ms/step - loss: 0.5385 - accuracy: 0.7747 - val_loss: 0.2969 - val_accuracy: 0.9182\n",
      "Epoch 52/1000\n",
      "17/17 [==============================] - ETA: 0s - loss: 0.5475 - accuracy: 0.7767\n",
      "Epoch 52: saving model to model/keypoint_classifier\\keypoint_classifier.hdf5\n",
      "17/17 [==============================] - 0s 10ms/step - loss: 0.5475 - accuracy: 0.7767 - val_loss: 0.2875 - val_accuracy: 0.9369\n",
      "Epoch 53/1000\n",
      " 1/17 [>.............................] - ETA: 0s - loss: 0.5841 - accuracy: 0.7344\n",
      "Epoch 53: saving model to model/keypoint_classifier\\keypoint_classifier.hdf5\n",
      "17/17 [==============================] - 0s 7ms/step - loss: 0.5311 - accuracy: 0.7747 - val_loss: 0.2774 - val_accuracy: 0.9412\n",
      "Epoch 54/1000\n",
      "17/17 [==============================] - ETA: 0s - loss: 0.5559 - accuracy: 0.7786\n",
      "Epoch 54: saving model to model/keypoint_classifier\\keypoint_classifier.hdf5\n",
      "17/17 [==============================] - 0s 7ms/step - loss: 0.5559 - accuracy: 0.7786 - val_loss: 0.3037 - val_accuracy: 0.9268\n",
      "Epoch 55/1000\n",
      "17/17 [==============================] - ETA: 0s - loss: 0.5193 - accuracy: 0.7881\n",
      "Epoch 55: saving model to model/keypoint_classifier\\keypoint_classifier.hdf5\n",
      "17/17 [==============================] - 0s 7ms/step - loss: 0.5193 - accuracy: 0.7881 - val_loss: 0.2878 - val_accuracy: 0.9311\n",
      "Epoch 56/1000\n",
      "16/17 [===========================>..] - ETA: 0s - loss: 0.5402 - accuracy: 0.7734\n",
      "Epoch 56: saving model to model/keypoint_classifier\\keypoint_classifier.hdf5\n",
      "17/17 [==============================] - 0s 8ms/step - loss: 0.5403 - accuracy: 0.7728 - val_loss: 0.2947 - val_accuracy: 0.9283\n",
      "Epoch 57/1000\n",
      "17/17 [==============================] - ETA: 0s - loss: 0.5654 - accuracy: 0.7714\n",
      "Epoch 57: saving model to model/keypoint_classifier\\keypoint_classifier.hdf5\n",
      "17/17 [==============================] - 0s 7ms/step - loss: 0.5654 - accuracy: 0.7714 - val_loss: 0.3149 - val_accuracy: 0.9326\n",
      "Epoch 58/1000\n",
      " 1/17 [>.............................] - ETA: 0s - loss: 0.4231 - accuracy: 0.8125\n",
      "Epoch 58: saving model to model/keypoint_classifier\\keypoint_classifier.hdf5\n",
      "17/17 [==============================] - 0s 7ms/step - loss: 0.5567 - accuracy: 0.7719 - val_loss: 0.3204 - val_accuracy: 0.9240\n",
      "Epoch 59/1000\n",
      "16/17 [===========================>..] - ETA: 0s - loss: 0.5019 - accuracy: 0.8057\n",
      "Epoch 59: saving model to model/keypoint_classifier\\keypoint_classifier.hdf5\n",
      "17/17 [==============================] - 0s 8ms/step - loss: 0.5030 - accuracy: 0.8063 - val_loss: 0.2882 - val_accuracy: 0.9168\n",
      "Epoch 60/1000\n",
      "17/17 [==============================] - ETA: 0s - loss: 0.5296 - accuracy: 0.7752\n",
      "Epoch 60: saving model to model/keypoint_classifier\\keypoint_classifier.hdf5\n",
      "17/17 [==============================] - 0s 8ms/step - loss: 0.5296 - accuracy: 0.7752 - val_loss: 0.2970 - val_accuracy: 0.9197\n",
      "Epoch 61/1000\n",
      " 1/17 [>.............................] - ETA: 0s - loss: 0.3867 - accuracy: 0.8359\n",
      "Epoch 61: saving model to model/keypoint_classifier\\keypoint_classifier.hdf5\n",
      "17/17 [==============================] - 0s 7ms/step - loss: 0.4931 - accuracy: 0.7991 - val_loss: 0.2657 - val_accuracy: 0.9383\n",
      "Epoch 62/1000\n",
      "17/17 [==============================] - ETA: 0s - loss: 0.4827 - accuracy: 0.7944\n",
      "Epoch 62: saving model to model/keypoint_classifier\\keypoint_classifier.hdf5\n",
      "17/17 [==============================] - 0s 7ms/step - loss: 0.4827 - accuracy: 0.7944 - val_loss: 0.2560 - val_accuracy: 0.9369\n",
      "Epoch 63/1000\n",
      "17/17 [==============================] - ETA: 0s - loss: 0.5175 - accuracy: 0.7814\n",
      "Epoch 63: saving model to model/keypoint_classifier\\keypoint_classifier.hdf5\n",
      "17/17 [==============================] - 0s 8ms/step - loss: 0.5175 - accuracy: 0.7814 - val_loss: 0.2695 - val_accuracy: 0.9412\n",
      "Epoch 64/1000\n",
      " 1/17 [>.............................] - ETA: 0s - loss: 0.5161 - accuracy: 0.7344\n",
      "Epoch 64: saving model to model/keypoint_classifier\\keypoint_classifier.hdf5\n",
      "17/17 [==============================] - 0s 7ms/step - loss: 0.5398 - accuracy: 0.7728 - val_loss: 0.3278 - val_accuracy: 0.8953\n",
      "Epoch 65/1000\n",
      "17/17 [==============================] - ETA: 0s - loss: 0.5165 - accuracy: 0.7872\n",
      "Epoch 65: saving model to model/keypoint_classifier\\keypoint_classifier.hdf5\n",
      "17/17 [==============================] - 0s 8ms/step - loss: 0.5165 - accuracy: 0.7872 - val_loss: 0.2913 - val_accuracy: 0.9326\n",
      "Epoch 66/1000\n",
      "16/17 [===========================>..] - ETA: 0s - loss: 0.5021 - accuracy: 0.7930\n",
      "Epoch 66: saving model to model/keypoint_classifier\\keypoint_classifier.hdf5\n",
      "17/17 [==============================] - 0s 8ms/step - loss: 0.5058 - accuracy: 0.7910 - val_loss: 0.2805 - val_accuracy: 0.9096\n",
      "Epoch 67/1000\n",
      "16/17 [===========================>..] - ETA: 0s - loss: 0.5000 - accuracy: 0.7891\n",
      "Epoch 67: saving model to model/keypoint_classifier\\keypoint_classifier.hdf5\n",
      "17/17 [==============================] - 0s 8ms/step - loss: 0.5010 - accuracy: 0.7896 - val_loss: 0.2901 - val_accuracy: 0.9311\n",
      "Epoch 68/1000\n",
      "16/17 [===========================>..] - ETA: 0s - loss: 0.5209 - accuracy: 0.7847\n",
      "Epoch 68: saving model to model/keypoint_classifier\\keypoint_classifier.hdf5\n",
      "17/17 [==============================] - 0s 7ms/step - loss: 0.5202 - accuracy: 0.7848 - val_loss: 0.2851 - val_accuracy: 0.9469\n",
      "Epoch 69/1000\n",
      "17/17 [==============================] - ETA: 0s - loss: 0.5063 - accuracy: 0.7920\n",
      "Epoch 69: saving model to model/keypoint_classifier\\keypoint_classifier.hdf5\n",
      "17/17 [==============================] - 0s 10ms/step - loss: 0.5063 - accuracy: 0.7920 - val_loss: 0.2875 - val_accuracy: 0.9326\n",
      "Epoch 70/1000\n",
      "16/17 [===========================>..] - ETA: 0s - loss: 0.5059 - accuracy: 0.7793\n",
      "Epoch 70: saving model to model/keypoint_classifier\\keypoint_classifier.hdf5\n",
      "17/17 [==============================] - 0s 8ms/step - loss: 0.5063 - accuracy: 0.7795 - val_loss: 0.3002 - val_accuracy: 0.9168\n",
      "Epoch 71/1000\n",
      "13/17 [=====================>........] - ETA: 0s - loss: 0.4776 - accuracy: 0.7963\n",
      "Epoch 71: saving model to model/keypoint_classifier\\keypoint_classifier.hdf5\n",
      "17/17 [==============================] - 0s 11ms/step - loss: 0.4762 - accuracy: 0.7991 - val_loss: 0.2881 - val_accuracy: 0.9067\n",
      "Epoch 72/1000\n",
      "15/17 [=========================>....] - ETA: 0s - loss: 0.4936 - accuracy: 0.7865\n",
      "Epoch 72: saving model to model/keypoint_classifier\\keypoint_classifier.hdf5\n",
      "17/17 [==============================] - 0s 9ms/step - loss: 0.4903 - accuracy: 0.7920 - val_loss: 0.2880 - val_accuracy: 0.9211\n",
      "Epoch 73/1000\n",
      "15/17 [=========================>....] - ETA: 0s - loss: 0.4878 - accuracy: 0.8026\n",
      "Epoch 73: saving model to model/keypoint_classifier\\keypoint_classifier.hdf5\n",
      "17/17 [==============================] - 0s 9ms/step - loss: 0.4949 - accuracy: 0.7996 - val_loss: 0.2822 - val_accuracy: 0.9268\n",
      "Epoch 74/1000\n",
      " 1/17 [>.............................] - ETA: 0s - loss: 0.3788 - accuracy: 0.8672\n",
      "Epoch 74: saving model to model/keypoint_classifier\\keypoint_classifier.hdf5\n",
      "17/17 [==============================] - 0s 8ms/step - loss: 0.4833 - accuracy: 0.7991 - val_loss: 0.3013 - val_accuracy: 0.8910\n",
      "Epoch 75/1000\n",
      "16/17 [===========================>..] - ETA: 0s - loss: 0.4706 - accuracy: 0.8052\n",
      "Epoch 75: saving model to model/keypoint_classifier\\keypoint_classifier.hdf5\n",
      "17/17 [==============================] - 0s 8ms/step - loss: 0.4697 - accuracy: 0.8049 - val_loss: 0.2744 - val_accuracy: 0.9311\n",
      "Epoch 76/1000\n",
      " 1/17 [>.............................] - ETA: 0s - loss: 0.4707 - accuracy: 0.7812\n",
      "Epoch 76: saving model to model/keypoint_classifier\\keypoint_classifier.hdf5\n",
      "17/17 [==============================] - 0s 7ms/step - loss: 0.4985 - accuracy: 0.7910 - val_loss: 0.2819 - val_accuracy: 0.9182\n",
      "Epoch 77/1000\n",
      "17/17 [==============================] - ETA: 0s - loss: 0.4675 - accuracy: 0.8106\n",
      "Epoch 77: saving model to model/keypoint_classifier\\keypoint_classifier.hdf5\n",
      "17/17 [==============================] - 0s 8ms/step - loss: 0.4675 - accuracy: 0.8106 - val_loss: 0.2805 - val_accuracy: 0.9297\n",
      "Epoch 78/1000\n",
      "17/17 [==============================] - ETA: 0s - loss: 0.4566 - accuracy: 0.8097\n",
      "Epoch 78: saving model to model/keypoint_classifier\\keypoint_classifier.hdf5\n",
      "17/17 [==============================] - 0s 7ms/step - loss: 0.4566 - accuracy: 0.8097 - val_loss: 0.2645 - val_accuracy: 0.9397\n",
      "Epoch 79/1000\n",
      "17/17 [==============================] - ETA: 0s - loss: 0.4720 - accuracy: 0.8049\n",
      "Epoch 79: saving model to model/keypoint_classifier\\keypoint_classifier.hdf5\n",
      "17/17 [==============================] - 0s 7ms/step - loss: 0.4720 - accuracy: 0.8049 - val_loss: 0.2783 - val_accuracy: 0.9154\n",
      "Epoch 80/1000\n",
      "17/17 [==============================] - ETA: 0s - loss: 0.4514 - accuracy: 0.8159\n",
      "Epoch 80: saving model to model/keypoint_classifier\\keypoint_classifier.hdf5\n",
      "17/17 [==============================] - 0s 8ms/step - loss: 0.4514 - accuracy: 0.8159 - val_loss: 0.2721 - val_accuracy: 0.9369\n",
      "Epoch 81/1000\n",
      "16/17 [===========================>..] - ETA: 0s - loss: 0.4613 - accuracy: 0.8091\n",
      "Epoch 81: saving model to model/keypoint_classifier\\keypoint_classifier.hdf5\n",
      "17/17 [==============================] - 0s 8ms/step - loss: 0.4608 - accuracy: 0.8082 - val_loss: 0.2704 - val_accuracy: 0.9268\n",
      "Epoch 82/1000\n",
      "17/17 [==============================] - ETA: 0s - loss: 0.4739 - accuracy: 0.8034\n",
      "Epoch 82: saving model to model/keypoint_classifier\\keypoint_classifier.hdf5\n",
      "17/17 [==============================] - 0s 7ms/step - loss: 0.4739 - accuracy: 0.8034 - val_loss: 0.2821 - val_accuracy: 0.9139\n",
      "Epoch 82: early stopping\n"
     ]
    },
    {
     "data": {
      "text/plain": [
       "<keras.callbacks.History at 0x13f5135ab50>"
      ]
     },
     "execution_count": 414,
     "metadata": {},
     "output_type": "execute_result"
    }
   ],
   "source": [
    "model.fit(\n",
    "    X_train,\n",
    "    y_train,\n",
    "    epochs=1000,\n",
    "    batch_size=128,\n",
    "    validation_data=(X_test, y_test),\n",
    "    callbacks=[cp_callback, es_callback]\n",
    ")"
   ]
  },
  {
   "cell_type": "code",
   "execution_count": 415,
   "metadata": {},
   "outputs": [
    {
     "name": "stdout",
     "output_type": "stream",
     "text": [
      "6/6 [==============================] - 0s 2ms/step - loss: 0.2821 - accuracy: 0.9139\n"
     ]
    }
   ],
   "source": [
    "# モデル評価\n",
    "val_loss, val_acc = model.evaluate(X_test, y_test, batch_size=128)"
   ]
  },
  {
   "cell_type": "code",
   "execution_count": 416,
   "metadata": {},
   "outputs": [],
   "source": [
    "# 保存したモデルのロード\n",
    "model = tf.keras.models.load_model(model_save_path)"
   ]
  },
  {
   "cell_type": "code",
   "execution_count": 417,
   "metadata": {},
   "outputs": [
    {
     "name": "stdout",
     "output_type": "stream",
     "text": [
      "[0.01212655 0.029622   0.3880652  0.57018626]\n",
      "3\n"
     ]
    }
   ],
   "source": [
    "# 推論テスト\n",
    "predict_result = model.predict(np.array([X_test[0]]))\n",
    "print(np.squeeze(predict_result))\n",
    "print(np.argmax(np.squeeze(predict_result)))"
   ]
  },
  {
   "cell_type": "markdown",
   "metadata": {},
   "source": [
    "# 混同行列"
   ]
  },
  {
   "cell_type": "code",
   "execution_count": 418,
   "metadata": {},
   "outputs": [
    {
     "data": {
      "image/png": "[encoded data removed]",
      "text/plain": [
       "<Figure size 504x432 with 2 Axes>"
      ]
     },
     "metadata": {
      "needs_background": "light"
     },
     "output_type": "display_data"
    },
    {
     "name": "stdout",
     "output_type": "stream",
     "text": [
      "Classification Report\n",
      "              precision    recall  f1-score   support\n",
      "\n",
      "           0       0.97      0.98      0.97       179\n",
      "           1       0.95      0.97      0.96       176\n",
      "           2       0.91      0.80      0.85       182\n",
      "           3       0.82      0.91      0.86       160\n",
      "\n",
      "    accuracy                           0.91       697\n",
      "   macro avg       0.91      0.91      0.91       697\n",
      "weighted avg       0.92      0.91      0.91       697\n",
      "\n"
     ]
    }
   ],
   "source": [
    "import pandas as pd\n",
    "import seaborn as sns\n",
    "import matplotlib.pyplot as plt\n",
    "from sklearn.metrics import confusion_matrix, classification_report\n",
    "\n",
    "def print_confusion_matrix(y_true, y_pred, report=True):\n",
    "    labels = sorted(list(set(y_true)))\n",
    "    cmx_data = confusion_matrix(y_true, y_pred, labels=labels)\n",
    "    \n",
    "    df_cmx = pd.DataFrame(cmx_data, index=labels, columns=labels)\n",
    " \n",
    "    fig, ax = plt.subplots(figsize=(7, 6))\n",
    "    sns.heatmap(df_cmx, annot=True, fmt='g' ,square=False)\n",
    "    ax.set_ylim(len(set(y_true)), 0)\n",
    "    plt.show()\n",
    "    \n",
    "    if report:\n",
    "        print('Classification Report')\n",
    "        print(classification_report(y_test, y_pred))\n",
    "\n",
    "Y_pred = model.predict(X_test)\n",
    "y_pred = np.argmax(Y_pred, axis=1)\n",
    "\n",
    "print_confusion_matrix(y_test, y_pred)"
   ]
  },
  {
   "cell_type": "markdown",
   "metadata": {},
   "source": [
    "# Tensorflow-Lite用のモデルへ変換"
   ]
  },
  {
   "cell_type": "code",
   "execution_count": 419,
   "metadata": {},
   "outputs": [],
   "source": [
    "# 推論専用のモデルとして保存\n",
    "model.save(model_save_path, include_optimizer=False)"
   ]
  },
  {
   "cell_type": "code",
   "execution_count": 420,
   "metadata": {},
   "outputs": [
    {
     "name": "stdout",
     "output_type": "stream",
     "text": [
      "INFO:tensorflow:Assets written to: C:\\Users\\you_a\\AppData\\Local\\Temp\\tmpzzl1hf7i\\assets\n"
     ]
    },
    {
     "name": "stderr",
     "output_type": "stream",
     "text": [
      "INFO:tensorflow:Assets written to: C:\\Users\\you_a\\AppData\\Local\\Temp\\tmpzzl1hf7i\\assets\n",
      "WARNING:absl:Buffer deduplication procedure will be skipped when flatbuffer library is not properly loaded\n"
     ]
    },
    {
     "data": {
      "text/plain": [
       "26976"
      ]
     },
     "execution_count": 420,
     "metadata": {},
     "output_type": "execute_result"
    }
   ],
   "source": [
    "# モデルを変換(量子化)\n",
    "tflite_save_path = 'model/keypoint_classifier/keypoint_classifier.tflite'\n",
    "\n",
    "converter = tf.lite.TFLiteConverter.from_keras_model(model)\n",
    "converter.optimizations = [tf.lite.Optimize.DEFAULT]\n",
    "tflite_quantized_model = converter.convert()\n",
    "\n",
    "open(tflite_save_path, 'wb').write(tflite_quantized_model)"
   ]
  },
  {
   "cell_type": "markdown",
   "metadata": {},
   "source": [
    "# 推論テスト"
   ]
  },
  {
   "cell_type": "code",
   "execution_count": 421,
   "metadata": {},
   "outputs": [],
   "source": [
    "interpreter = tf.lite.Interpreter(model_path=tflite_save_path)\n",
    "interpreter.allocate_tensors()"
   ]
  },
  {
   "cell_type": "code",
   "execution_count": 422,
   "metadata": {},
   "outputs": [],
   "source": [
    "# 入出力テンソルを取得\n",
    "input_details = interpreter.get_input_details()\n",
    "output_details = interpreter.get_output_details()"
   ]
  },
  {
   "cell_type": "code",
   "execution_count": 423,
   "metadata": {},
   "outputs": [],
   "source": [
    "interpreter.set_tensor(input_details[0]['index'], np.array([X_test[0]]))"
   ]
  },
  {
   "cell_type": "code",
   "execution_count": 424,
   "metadata": {
    "scrolled": true
   },
   "outputs": [
    {
     "name": "stdout",
     "output_type": "stream",
     "text": [
      "CPU times: total: 0 ns\n",
      "Wall time: 0 ns\n"
     ]
    }
   ],
   "source": [
    "%%time\n",
    "# 推論実施\n",
    "interpreter.invoke()\n",
    "tflite_results = interpreter.get_tensor(output_details[0]['index'])"
   ]
  },
  {
   "cell_type": "code",
   "execution_count": 425,
   "metadata": {},
   "outputs": [
    {
     "name": "stdout",
     "output_type": "stream",
     "text": [
      "[0.01311374 0.03200431 0.3916628  0.5632192 ]\n",
      "3\n"
     ]
    }
   ],
   "source": [
    "print(np.squeeze(tflite_results))\n",
    "print(np.argmax(np.squeeze(tflite_results)))"
   ]
  }
 ],
 "metadata": {
  "kernelspec": {
   "display_name": "Python 3",
   "language": "python",
   "name": "python3"
  },
  "language_info": {
   "codemirror_mode": {
    "name": "ipython",
    "version": 3
   },
   "file_extension": ".py",
   "mimetype": "text/x-python",
   "name": "python",
   "nbconvert_exporter": "python",
   "pygments_lexer": "ipython3",
   "version": "3.9.7"
  }
 },
 "nbformat": 4,
 "nbformat_minor": 4
}
